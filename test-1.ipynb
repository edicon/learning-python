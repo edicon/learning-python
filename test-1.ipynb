{
 "cells": [
  {
   "cell_type": "markdown",
   "metadata": {},
   "source": [
    "# Test Notebook"
   ]
  },
  {
   "cell_type": "code",
   "execution_count": 8,
   "metadata": {},
   "outputs": [
    {
     "name": "stdout",
     "output_type": "stream",
     "text": [
      "test mag\n",
      "test message2\n"
     ]
    }
   ],
   "source": [
    "msg = \"test mag\"\n",
    "print(msg)\n",
    "\n",
    "msg2 = \"test message2\"\n",
    "print(msg2)"
   ]
  }
 ],
 "metadata": {
  "interpreter": {
   "hash": "8aa8e5b38401df7b8162dc6b37d52b1cd30e50af355ad4fdef1349a8cac8dcd8"
  },
  "kernelspec": {
   "display_name": "Python 3.8.6 64-bit ('.venv': venv)",
   "name": "python3"
  },
  "language_info": {
   "codemirror_mode": {
    "name": "ipython",
    "version": 3
   },
   "file_extension": ".py",
   "mimetype": "text/x-python",
   "name": "python",
   "nbconvert_exporter": "python",
   "pygments_lexer": "ipython3",
   "version": "3.8.6"
  },
  "orig_nbformat": 4
 },
 "nbformat": 4,
 "nbformat_minor": 2
}
